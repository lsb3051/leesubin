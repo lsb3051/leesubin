{
  "nbformat": 4,
  "nbformat_minor": 0,
  "metadata": {
    "colab": {
      "provenance": [],
      "authorship_tag": "ABX9TyNGBqHOPnltScUHFyImj79a",
      "include_colab_link": true
    },
    "kernelspec": {
      "name": "python3",
      "display_name": "Python 3"
    },
    "language_info": {
      "name": "python"
    }
  },
  "cells": [
    {
      "cell_type": "markdown",
      "metadata": {
        "id": "view-in-github",
        "colab_type": "text"
      },
      "source": [
        "<a href=\"https://colab.research.google.com/github/lsb3051/leesubin/blob/main/%ED%95%80%ED%85%8C%EC%BB%A4%EC%8A%A4_230906.ipynb\" target=\"_parent\"><img src=\"https://colab.research.google.com/assets/colab-badge.svg\" alt=\"Open In Colab\"/></a>"
      ]
    },
    {
      "cell_type": "code",
      "execution_count": null,
      "metadata": {
        "colab": {
          "base_uri": "https://localhost:8080/"
        },
        "id": "eOtpAAHj-6O8",
        "outputId": "99308ab5-3c7f-4f46-b364-7713b9bcee45"
      },
      "outputs": [
        {
          "output_type": "stream",
          "name": "stdout",
          "text": [
            "상품가격은? 12000\n",
            "지불가격은? 13000\n",
            "500원: 2개, 100원: 0개, 50원: 0개, 10원: 0개\n"
          ]
        }
      ],
      "source": [
        "### 잔돈 자판기\n",
        "price = int(input(\"상품가격은? \"))\n",
        "money = int(input(\"지불가격은? \"))\n",
        "\n",
        "change = money - price\n",
        "coin_500 = change//500  #몫을 구한다. 500원이 몇개가 필요한지 알려고\n",
        "change = change % 500    #500원 2개 주고 남은 나머지\n",
        "\n",
        "coin_100 = change//100\n",
        "change = change % 100\n",
        "\n",
        "coin_50 = change//50\n",
        "change = change % 50\n",
        "\n",
        "coin_10 = change//10\n",
        "change = change % 10\n",
        "\n",
        "print(f'500원: {coin_500}개, 100원: {coin_100}개, 50원: {coin_50}개, 10원: {coin_10}개')\n",
        "# 500, 100, 50, 10 각 동전을 몇개씩 줘야 하는가?\n",
        "# 거슬러 줄 때는 가장 큰 동전 먼저 줘야함, (화폐단위가 큰)\n",
        "\n"
      ]
    },
    {
      "cell_type": "code",
      "source": [
        "#이중포문\n",
        "\n",
        "list1 = [1,2,3]\n",
        "list2 = [4,5,6]\n",
        "for num1 in list1 :\n",
        "  print('------')\n",
        "  for num2 in list2:\n",
        "    print(num1,num2)"
      ],
      "metadata": {
        "colab": {
          "base_uri": "https://localhost:8080/"
        },
        "id": "L5-IynxjIM3x",
        "outputId": "051e5b15-cdcf-4073-848e-e2a9f4fb5c0a"
      },
      "execution_count": null,
      "outputs": [
        {
          "output_type": "stream",
          "name": "stdout",
          "text": [
            "------\n",
            "1 4\n",
            "1 5\n",
            "1 6\n",
            "------\n",
            "2 4\n",
            "2 5\n",
            "2 6\n",
            "------\n",
            "3 4\n",
            "3 5\n",
            "3 6\n"
          ]
        }
      ]
    },
    {
      "cell_type": "code",
      "source": [
        "#최대값,\n",
        "list1 = [1,24,3,44,1000,2,0,74]\n",
        "result = 0\n",
        "for i in list1:\n",
        "  if i > result:\n",
        "    result = i\n",
        "print(i)\n"
      ],
      "metadata": {
        "colab": {
          "base_uri": "https://localhost:8080/"
        },
        "id": "q_k4sNZ4IbV5",
        "outputId": "b719e402-f36c-4e1a-b52a-437bab9e5026"
      },
      "execution_count": null,
      "outputs": [
        {
          "output_type": "stream",
          "name": "stdout",
          "text": [
            "74\n"
          ]
        }
      ]
    },
    {
      "cell_type": "code",
      "source": [
        "#함수\n",
        "def sum(num1, num2):\n",
        "  result = num1 + num2\n",
        "  return result\n"
      ],
      "metadata": {
        "colab": {
          "base_uri": "https://localhost:8080/"
        },
        "id": "IKMIYAt7QpZa",
        "outputId": "def633f5-c04d-4830-f7f4-71e19b5d5dfb"
      },
      "execution_count": null,
      "outputs": [
        {
          "output_type": "execute_result",
          "data": {
            "text/plain": [
              "7"
            ]
          },
          "metadata": {},
          "execution_count": 22
        }
      ]
    },
    {
      "cell_type": "code",
      "source": [
        "sum(5, 5555)"
      ],
      "metadata": {
        "colab": {
          "base_uri": "https://localhost:8080/"
        },
        "id": "1tJ9HSL3R4fx",
        "outputId": "44fcdecd-bf73-4639-a678-aa08533fbe58"
      },
      "execution_count": null,
      "outputs": [
        {
          "output_type": "execute_result",
          "data": {
            "text/plain": [
              "5560"
            ]
          },
          "metadata": {},
          "execution_count": 23
        }
      ]
    },
    {
      "cell_type": "code",
      "source": [
        "#입력값 없이 함수 가능\n",
        "def say():\n",
        "  return 'Hi'\n",
        "say()"
      ],
      "metadata": {
        "colab": {
          "base_uri": "https://localhost:8080/",
          "height": 36
        },
        "id": "N4QHE7NDSfLJ",
        "outputId": "03a1e96e-0cda-4f5f-bc34-203078539ad1"
      },
      "execution_count": null,
      "outputs": [
        {
          "output_type": "execute_result",
          "data": {
            "text/plain": [
              "'Hi'"
            ],
            "application/vnd.google.colaboratory.intrinsic+json": {
              "type": "string"
            }
          },
          "metadata": {},
          "execution_count": 116
        }
      ]
    },
    {
      "cell_type": "code",
      "source": [
        "def sum2(num1, num2):\n",
        "  print(f'{num1+num2}')\n",
        "\n",
        "sum2(4,5)"
      ],
      "metadata": {
        "colab": {
          "base_uri": "https://localhost:8080/"
        },
        "id": "sZsaDbROSouX",
        "outputId": "f63c9bb1-68f5-4fee-b1b7-202ba7665987"
      },
      "execution_count": null,
      "outputs": [
        {
          "output_type": "stream",
          "name": "stdout",
          "text": [
            "9\n"
          ]
        }
      ]
    },
    {
      "cell_type": "code",
      "source": [
        "### 함수안에 이렇게도 가능 신기 ㄷㄷ\n",
        "sum(num1 = 3, num2 = 0)"
      ],
      "metadata": {
        "colab": {
          "base_uri": "https://localhost:8080/"
        },
        "id": "LDv8yYkdTYG4",
        "outputId": "725c9423-22c9-4736-aace-72dddb104e72"
      },
      "execution_count": null,
      "outputs": [
        {
          "output_type": "execute_result",
          "data": {
            "text/plain": [
              "3"
            ]
          },
          "metadata": {},
          "execution_count": 27
        }
      ]
    },
    {
      "cell_type": "code",
      "source": [
        "def say_myself(name, old, man = True):      #기본값 설정 항상 끝에 작성해야한다.\n",
        "  print(f'나의 이름은 {name}입니다.')\n",
        "  print(f'나의 나이는 {old}살 입니다.')\n",
        "  if man :  # man이 트루일때\n",
        "    print('남자')\n",
        "  else :\n",
        "    print('여자')\n",
        "\n",
        "say_myself('홍길동',2)\n",
        "say_myself('박명순',2,False)\n",
        "say_myself(old = 10, name = '뽀로로')"
      ],
      "metadata": {
        "colab": {
          "base_uri": "https://localhost:8080/"
        },
        "id": "E4IEgu-NVbMr",
        "outputId": "6e2cacbc-a86f-44c6-b9eb-f4f25fabd774"
      },
      "execution_count": null,
      "outputs": [
        {
          "output_type": "stream",
          "name": "stdout",
          "text": [
            "나의 이름은 홍길동입니다.\n",
            "나의 나이는 2살 입니다.\n",
            "남자\n",
            "나의 이름은 박명순입니다.\n",
            "나의 나이는 2살 입니다.\n",
            "여자\n",
            "나의 이름은 뽀로로입니다.\n",
            "나의 나이는 10살 입니다.\n",
            "남자\n"
          ]
        }
      ]
    },
    {
      "cell_type": "code",
      "source": [
        "def test():\n",
        "  local_var = 20\n",
        "test()"
      ],
      "metadata": {
        "id": "iTzrzbRwWu_X"
      },
      "execution_count": null,
      "outputs": []
    },
    {
      "cell_type": "code",
      "source": [
        "# 함수결과값을 쓰고 싶다면\n",
        "def test2():\n",
        "  local_var = 20\n",
        "  return local_var\n",
        "a= test2()\n",
        "print(a)\n",
        "\n",
        "#global 쓰면 전역변수처럼 쓸 수 있지만, 선호하지 말자. .\n"
      ],
      "metadata": {
        "colab": {
          "base_uri": "https://localhost:8080/"
        },
        "id": "3_-8Qj8LX5DX",
        "outputId": "eedc0b72-ef47-4157-e477-ac7bea2336b3"
      },
      "execution_count": null,
      "outputs": [
        {
          "output_type": "stream",
          "name": "stdout",
          "text": [
            "20\n"
          ]
        }
      ]
    },
    {
      "cell_type": "code",
      "source": [
        "from ast import arg\n",
        "##\n",
        "def means(*args):\n",
        "  sum1 = 0\n",
        "  count1 = 0\n",
        "  for i in args:   #튜플로 들어온다.\n",
        "    sum1 = sum1 + i\n",
        "    count1 = count1 + 1\n",
        "  avg = sum1/count1\n",
        "  return avg\n",
        "print(means(1,2,3))"
      ],
      "metadata": {
        "colab": {
          "base_uri": "https://localhost:8080/"
        },
        "id": "nlWyxnwJccgQ",
        "outputId": "549b4138-7e88-437a-85a0-32d7db5c10d1"
      },
      "execution_count": null,
      "outputs": [
        {
          "output_type": "stream",
          "name": "stdout",
          "text": [
            "2.0\n"
          ]
        }
      ]
    },
    {
      "cell_type": "markdown",
      "source": [],
      "metadata": {
        "id": "6kVzP9RqdRuu"
      }
    },
    {
      "cell_type": "code",
      "source": [
        "def cal(num1,num2):\n",
        "  sum = num1+num2\n",
        "  min = num1-num2\n",
        "  mul = num1*num2\n",
        "  div = num1//num2\n",
        "  print(f'입력받음 num1: {num1} num2: {num2}')\n",
        "  print(f'더하기 : {sum}')\n",
        "  print(f'빼기 : {min}')\n",
        "  print(f'곱하기 : {mul}')\n",
        "  print(f'나누기 : {div}')\n",
        "  return sum,min,mul,div\n",
        "\n",
        "cal(5,3)"
      ],
      "metadata": {
        "colab": {
          "base_uri": "https://localhost:8080/"
        },
        "id": "Ir1FMPvidHFe",
        "outputId": "61e3387d-b611-4ca2-a45b-49a0759e429a"
      },
      "execution_count": null,
      "outputs": [
        {
          "output_type": "stream",
          "name": "stdout",
          "text": [
            "입력받음 num1: 5 num2: 3\n",
            "더하기 : 8\n",
            "빼기 : 2\n",
            "곱하기 : 15\n",
            "나누기 : 1\n"
          ]
        },
        {
          "output_type": "execute_result",
          "data": {
            "text/plain": [
              "(8, 2, 15, 1)"
            ]
          },
          "metadata": {},
          "execution_count": 75
        }
      ]
    },
    {
      "cell_type": "code",
      "source": [
        "def cal1():\n",
        "  num1 = int(input('첫번째 숫자 입력 : '))\n",
        "  num2 = int(input('두번째 숫자 입력 : '))\n",
        "  return num1*num2, num1-num2, num1*num2, num1/num2\n",
        "cal1()"
      ],
      "metadata": {
        "colab": {
          "base_uri": "https://localhost:8080/"
        },
        "id": "MGUWHio7hd4I",
        "outputId": "688099fd-1653-4bec-c5f9-f05f96a5211f"
      },
      "execution_count": null,
      "outputs": [
        {
          "name": "stdout",
          "output_type": "stream",
          "text": [
            "첫번째 숫자 입력 : 50\n",
            "두번째 숫자 입력 : 10\n"
          ]
        },
        {
          "output_type": "execute_result",
          "data": {
            "text/plain": [
              "(500, 40, 500, 5.0)"
            ]
          },
          "metadata": {},
          "execution_count": 84
        }
      ]
    },
    {
      "cell_type": "markdown",
      "source": [
        "result1, result2 인스턴스 라고 함,\n"
      ],
      "metadata": {
        "id": "cYp2lywykKv1"
      }
    },
    {
      "cell_type": "code",
      "source": [
        "result1 = 0\n",
        "result2 = 0\n",
        "def adder1(num):\n",
        "  global result1\n",
        "  result1 += num\n",
        "  return result1\n",
        "def adder2(num):\n",
        "  global result2\n",
        "  result2 += num\n",
        "  return result2\n",
        "\n"
      ],
      "metadata": {
        "id": "NKRSXB-dkTEX"
      },
      "execution_count": null,
      "outputs": []
    },
    {
      "cell_type": "markdown",
      "source": [
        "# 클래스 = 설계도면, 클래스로 만든게 인스턴스,\n",
        "# 속성(result)은 위에서 가지는 객체 특징상태, 변수 혹은\n",
        "집종류, 몇평 = 속성\n",
        "\n",
        "붕어빵 틀 = 클래스\n",
        "붕어빵 만든 결과 = 인스턴스 (덜익거나, 잘익거나 , 타거나) = 객체\n",
        "붕어빵 속재료( 피자,고구마,슈크림,팥 ) = 속성 정해줄 수 있다.\n",
        "피자붕어빵의 속성값은 피자\n",
        "\n"
      ],
      "metadata": {
        "id": "fhDfg5O_kXz0"
      }
    },
    {
      "cell_type": "code",
      "source": [
        "class 붕어빵:\n",
        "  def __init__(self):\n",
        "    self.속재료 = None"
      ],
      "metadata": {
        "id": "MgHNdWcXlotl"
      },
      "execution_count": null,
      "outputs": []
    },
    {
      "cell_type": "code",
      "source": [
        "피자붕어빵 = 붕어빵()\n",
        "피자붕어빵.속재료 = '피자'\n",
        "\n",
        "팥붕어빵 = 붕어빵()\n",
        "팥붕어빵.속재료 = '팥'\n"
      ],
      "metadata": {
        "id": "VS6l2FIWlqy0"
      },
      "execution_count": null,
      "outputs": []
    },
    {
      "cell_type": "markdown",
      "source": [
        "#클래스 만들기\n"
      ],
      "metadata": {
        "id": "UEuRhVEq7E7Z"
      }
    },
    {
      "cell_type": "code",
      "source": [
        "class FourCal:\n",
        "  def set_data(self, num1, num2):\n",
        "    self.num1 = num1\n",
        "    self.num2 = num2\n",
        "\n",
        "  def add(self):\n",
        "    return self.num1 + self.num2\n",
        "\n",
        "a = FourCal()  #a는 인스턴스\n",
        "a.set_data(10,20) #a 인스턴스에 set_data 메서드 사용,\n",
        "print(a.num1, a.num2)\n",
        "print(a.add())"
      ],
      "metadata": {
        "colab": {
          "base_uri": "https://localhost:8080/"
        },
        "id": "JfEixS4X7InV",
        "outputId": "2d4c8efd-bc29-48e2-9b3c-73095c88a390"
      },
      "execution_count": null,
      "outputs": [
        {
          "output_type": "stream",
          "name": "stdout",
          "text": [
            "10 20\n",
            "30\n"
          ]
        }
      ]
    },
    {
      "cell_type": "code",
      "source": [
        "class FourCal:\n",
        "  def __init__(self, num1, num2):\n",
        "    self.num1 = num1\n",
        "    self.num2 = num2\n",
        "\n",
        "  def add(self):\n",
        "    return self.num1 + self.num2\n",
        "\n",
        "  def minus(self):\n",
        "    return self.num1 - self.num2\n",
        "\n",
        "  def mul(self):\n",
        "    return self.num1 * self.num2\n",
        "\n",
        "  def divide(self):\n",
        "    return self.num1 / self.num2\n",
        "\n",
        "a = FourCal(10,20)\n",
        "print(a.num1, a.num2)\n",
        "print(a.add())"
      ],
      "metadata": {
        "colab": {
          "base_uri": "https://localhost:8080/"
        },
        "id": "Q7W3exaG7YPk",
        "outputId": "1f4dd97c-4ca4-4432-f2d5-8dab43e7be15"
      },
      "execution_count": null,
      "outputs": [
        {
          "output_type": "stream",
          "name": "stdout",
          "text": [
            "10 20\n",
            "30\n"
          ]
        }
      ]
    },
    {
      "cell_type": "code",
      "source": [
        "class BankAccount1:\n",
        "  def __init__(self, account, name, first_Money):\n",
        "    self.account = account\n",
        "    self.name = name\n",
        "    self.first_Money\n",
        "\n",
        "  def plus_Deposit(self):\n",
        "    sum_deposit = self.first_Money + self.plus_Deposit\n",
        "    return sum_deposit\n",
        "\n",
        "  def minus_Deposit(self):\n",
        "    return self.first_Money - self.minus_Deposit\n",
        "\n",
        "  def now_Deposit(self):\n",
        "    return"
      ],
      "metadata": {
        "id": "pmybsAr49kZQ"
      },
      "execution_count": null,
      "outputs": []
    },
    {
      "cell_type": "code",
      "source": [
        "# 선생님클래스\n",
        "class BankAccount:\n",
        "  def __init__(self, 계좌번호, 이름, 잔액):\n",
        "    self.계좌번호 = 계좌번호\n",
        "    self.이름 = 이름\n",
        "    self.잔액 = 잔액\n",
        "\n",
        "  def 입금(self, 금액):\n",
        "    self.잔액 = self.잔액 + 금액\n",
        "\n",
        "  def 출금(self, 금액):\n",
        "    self.잔액 = self.잔액 - 금액\n",
        "\n",
        "  def 잔액조회(self):\n",
        "    print(f'{self.이름}님의 잔고는 {self.잔액}원 입니다.')\n",
        "\n",
        "최진영계좌 = BankAccount('123-456-789', '최진영', 50000)\n",
        "홍길동계좌 = BankAccount('444-444-444', '홍길동', 100000)\n",
        "\n",
        "print(최진영계좌.잔액)\n",
        "최진영계좌.입금(50000)\n",
        "print(최진영계좌.잔액)\n",
        "최진영계좌.출금(30000)\n",
        "print(최진영계좌.잔액)\n",
        "최진영계좌.잔액조회()\n"
      ],
      "metadata": {
        "colab": {
          "base_uri": "https://localhost:8080/"
        },
        "id": "4gYjW12KJsPC",
        "outputId": "e132e857-0a7d-4bb8-e825-968772e19dab"
      },
      "execution_count": null,
      "outputs": [
        {
          "output_type": "stream",
          "name": "stdout",
          "text": [
            "50000\n",
            "100000\n",
            "70000\n",
            "최진영님의 잔고는 70000원 입니다.\n"
          ]
        }
      ]
    },
    {
      "cell_type": "markdown",
      "source": [
        "#상속"
      ],
      "metadata": {
        "id": "xQgisXdnMbK4"
      }
    },
    {
      "cell_type": "code",
      "source": [
        "class MoreFoureCal(FourCal):\n",
        "  def divide(self):\n",
        "    if(self.num2 == 0):\n",
        "      return 0\n",
        "    else :\n",
        "      return self.num1 / self.num2\n",
        "\n",
        "a = MoreFoureCal(2,0)\n",
        "a.divide()            #부모꺼를 새로 덮어쓰기로 만들어 낼 수 있다. 부모자체를 고칠 수도 있다."
      ],
      "metadata": {
        "colab": {
          "base_uri": "https://localhost:8080/"
        },
        "id": "TA8UNdSiMdHZ",
        "outputId": "4babbce6-2538-4a35-c92b-8a0a083cc8a9"
      },
      "execution_count": null,
      "outputs": [
        {
          "output_type": "execute_result",
          "data": {
            "text/plain": [
              "0"
            ]
          },
          "metadata": {},
          "execution_count": 115
        }
      ]
    },
    {
      "cell_type": "code",
      "source": [],
      "metadata": {
        "id": "OpLbcS5NTJ0p"
      },
      "execution_count": null,
      "outputs": []
    }
  ]
}